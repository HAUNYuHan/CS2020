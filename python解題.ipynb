{
  "nbformat": 4,
  "nbformat_minor": 0,
  "metadata": {
    "colab": {
      "name": "python解題.ipynb",
      "provenance": [],
      "authorship_tag": "ABX9TyNP5AWMu4E2yf4L+4nulLIf",
      "include_colab_link": true
    },
    "kernelspec": {
      "name": "python3",
      "display_name": "Python 3"
    }
  },
  "cells": [
    {
      "cell_type": "markdown",
      "metadata": {
        "id": "view-in-github",
        "colab_type": "text"
      },
      "source": [
        "<a href=\"https://colab.research.google.com/github/HAUNYuHan/CS2020/blob/master/python%E8%A7%A3%E9%A1%8C.ipynb\" target=\"_parent\"><img src=\"https://colab.research.google.com/assets/colab-badge.svg\" alt=\"Open In Colab\"/></a>"
      ]
    },
    {
      "cell_type": "code",
      "metadata": {
        "id": "Vcmrm-8LzrpZ",
        "outputId": "feac0709-4437-4475-f73a-42b0cabf6df6",
        "colab": {
          "base_uri": "https://localhost:8080/",
          "height": 51
        }
      },
      "source": [
        "x = input( )\n",
        "x = int(x)\n",
        "\n",
        "if x > 12 :\n",
        "  print(x-12)\n"
      ],
      "execution_count": null,
      "outputs": [
        {
          "output_type": "stream",
          "text": [
            "21\n",
            "9\n"
          ],
          "name": "stdout"
        }
      ]
    },
    {
      "cell_type": "code",
      "metadata": {
        "id": "eJHUyhk7w6bj",
        "outputId": "cd31641b-d51c-442f-b4f3-33d11d0eabaf",
        "colab": {
          "base_uri": "https://localhost:8080/",
          "height": 131
        }
      },
      "source": [
        "#a033.兩光法師占卜術\n",
        "x = int(input(x))\n",
        "y = int(input(y))\n",
        "z = eval((x*2+y)%3)\n",
        "\n",
        "  if z = 0 :\n",
        "    print(\"普通\")\n",
        "  if z = 1 :\n",
        "    print(\"吉\")\n",
        "  if z = 2 :\n",
        "    print(\"大吉\")"
      ],
      "execution_count": null,
      "outputs": [
        {
          "output_type": "error",
          "ename": "IndentationError",
          "evalue": "ignored",
          "traceback": [
            "\u001b[0;36m  File \u001b[0;32m\"<ipython-input-13-3fe7f346f9ab>\"\u001b[0;36m, line \u001b[0;32m6\u001b[0m\n\u001b[0;31m    if z = 0 :\u001b[0m\n\u001b[0m    ^\u001b[0m\n\u001b[0;31mIndentationError\u001b[0m\u001b[0;31m:\u001b[0m unexpected indent\n"
          ]
        }
      ]
    },
    {
      "cell_type": "code",
      "metadata": {
        "id": "tD1tCFSy3deS",
        "outputId": "c6655309-3421-4194-c181-24d4d0b9f841",
        "colab": {
          "base_uri": "https://localhost:8080/",
          "height": 70
        }
      },
      "source": [
        "#a004: 文文的求婚\n",
        "while 1:\n",
        "  try:\n",
        "    x=int(input( ))\n",
        "  except:\n",
        "    break\n",
        "  if  x % 4 == 0 and x % 100 != 0 or x % 400 == 0:\n",
        "    print(\"閏年\")\n",
        "  else :\n",
        "    print(\"平年\")"
      ],
      "execution_count": null,
      "outputs": [
        {
          "output_type": "stream",
          "text": [
            "2002\n",
            "平年\n"
          ],
          "name": "stdout"
        }
      ]
    },
    {
      "cell_type": "code",
      "metadata": {
        "id": "chJgALZs6qms"
      },
      "source": [
        "#http://yltang.net/tutorial/python/9/\n",
        "#"
      ],
      "execution_count": null,
      "outputs": []
    },
    {
      "cell_type": "code",
      "metadata": {
        "id": "g-42_XGN3egg",
        "outputId": "42300da7-1c86-4a27-fdda-0e9f1bfb6715",
        "colab": {
          "base_uri": "https://localhost:8080/",
          "height": 51
        }
      },
      "source": [
        "n = int(input())\n",
        "print((n+9)%24)"
      ],
      "execution_count": null,
      "outputs": [
        {
          "output_type": "stream",
          "text": [
            "21\n",
            "6\n"
          ],
          "name": "stdout"
        }
      ]
    }
  ]
}