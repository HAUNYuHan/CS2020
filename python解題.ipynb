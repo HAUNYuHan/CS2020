{
  "nbformat": 4,
  "nbformat_minor": 0,
  "metadata": {
    "colab": {
      "name": "python解題.ipynb",
      "provenance": [],
      "authorship_tag": "ABX9TyOlrYAPAeaNHg20RAl0HOmO",
      "include_colab_link": true
    },
    "kernelspec": {
      "name": "python3",
      "display_name": "Python 3"
    }
  },
  "cells": [
    {
      "cell_type": "markdown",
      "metadata": {
        "id": "view-in-github",
        "colab_type": "text"
      },
      "source": [
        "<a href=\"https://colab.research.google.com/github/HAUNYuHan/CS2020/blob/master/python%E8%A7%A3%E9%A1%8C.ipynb\" target=\"_parent\"><img src=\"https://colab.research.google.com/assets/colab-badge.svg\" alt=\"Open In Colab\"/></a>"
      ]
    },
    {
      "cell_type": "code",
      "metadata": {
        "id": "Vcmrm-8LzrpZ",
        "outputId": "feac0709-4437-4475-f73a-42b0cabf6df6",
        "colab": {
          "base_uri": "https://localhost:8080/",
          "height": 51
        }
      },
      "source": [
        "x = input( )\n",
        "x = int(x)\n",
        "\n",
        "if x > 12 :\n",
        "  print(x-12)\n"
      ],
      "execution_count": 5,
      "outputs": [
        {
          "output_type": "stream",
          "text": [
            "21\n",
            "9\n"
          ],
          "name": "stdout"
        }
      ]
    },
    {
      "cell_type": "code",
      "metadata": {
        "id": "g-42_XGN3egg",
        "outputId": "42300da7-1c86-4a27-fdda-0e9f1bfb6715",
        "colab": {
          "base_uri": "https://localhost:8080/",
          "height": 51
        }
      },
      "source": [
        "n = int(input())\n",
        "print((n+9)%24)"
      ],
      "execution_count": 6,
      "outputs": [
        {
          "output_type": "stream",
          "text": [
            "21\n",
            "6\n"
          ],
          "name": "stdout"
        }
      ]
    }
  ]
}