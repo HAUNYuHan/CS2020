{
  "nbformat": 4,
  "nbformat_minor": 0,
  "metadata": {
    "colab": {
      "name": "python解題.ipynb",
      "provenance": [],
      "authorship_tag": "ABX9TyO02i43gRSqU+Ot0d1QZq19",
      "include_colab_link": true
    },
    "kernelspec": {
      "name": "python3",
      "display_name": "Python 3"
    }
  },
  "cells": [
    {
      "cell_type": "markdown",
      "metadata": {
        "id": "view-in-github",
        "colab_type": "text"
      },
      "source": [
        "<a href=\"https://colab.research.google.com/github/HAUNYuHan/CS2020/blob/master/python%E8%A7%A3%E9%A1%8C.ipynb\" target=\"_parent\"><img src=\"https://colab.research.google.com/assets/colab-badge.svg\" alt=\"Open In Colab\"/></a>"
      ]
    },
    {
      "cell_type": "code",
      "metadata": {
        "id": "Vcmrm-8LzrpZ",
        "outputId": "feac0709-4437-4475-f73a-42b0cabf6df6",
        "colab": {
          "base_uri": "https://localhost:8080/",
          "height": 51
        }
      },
      "source": [
        "x = input( )\n",
        "x = int(x)\n",
        "\n",
        "if x > 12 :\n",
        "  print(x-12)\n"
      ],
      "execution_count": null,
      "outputs": [
        {
          "output_type": "stream",
          "text": [
            "21\n",
            "9\n"
          ],
          "name": "stdout"
        }
      ]
    },
    {
      "cell_type": "code",
      "metadata": {
        "id": "eJHUyhk7w6bj",
        "outputId": "2d4c91ee-921d-4118-ea22-e63164e0e726",
        "colab": {
          "base_uri": "https://localhost:8080/",
          "height": 131
        }
      },
      "source": [
        "#a033.兩光法師占卜術\n",
        "x = int(input(x))\n",
        "y = int(input(y))\n",
        "z = eval((x*2+y)%3)\n",
        "\n",
        "  if z = 0 :\n",
        "    print('普通')\n",
        "  if z = 1 :\n",
        "    print('吉')\n",
        "  if z = 2 :\n",
        "    print('大吉')"
      ],
      "execution_count": 8,
      "outputs": [
        {
          "output_type": "error",
          "ename": "IndentationError",
          "evalue": "ignored",
          "traceback": [
            "\u001b[0;36m  File \u001b[0;32m\"<ipython-input-8-c27121b905e6>\"\u001b[0;36m, line \u001b[0;32m5\u001b[0m\n\u001b[0;31m    if z = 0 :\u001b[0m\n\u001b[0m    ^\u001b[0m\n\u001b[0;31mIndentationError\u001b[0m\u001b[0;31m:\u001b[0m unexpected indent\n"
          ]
        }
      ]
    },
    {
      "cell_type": "code",
      "metadata": {
        "id": "g-42_XGN3egg",
        "outputId": "42300da7-1c86-4a27-fdda-0e9f1bfb6715",
        "colab": {
          "base_uri": "https://localhost:8080/",
          "height": 51
        }
      },
      "source": [
        "n = int(input())\n",
        "print((n+9)%24)"
      ],
      "execution_count": null,
      "outputs": [
        {
          "output_type": "stream",
          "text": [
            "21\n",
            "6\n"
          ],
          "name": "stdout"
        }
      ]
    }
  ]
}