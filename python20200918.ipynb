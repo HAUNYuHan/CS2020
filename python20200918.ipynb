{
  "nbformat": 4,
  "nbformat_minor": 0,
  "metadata": {
    "colab": {
      "name": "python20200918.ipynb",
      "provenance": [],
      "authorship_tag": "ABX9TyP14i1HJqKyuEc7oI0YpbWA",
      "include_colab_link": true
    },
    "kernelspec": {
      "name": "python3",
      "display_name": "Python 3"
    }
  },
  "cells": [
    {
      "cell_type": "markdown",
      "metadata": {
        "id": "view-in-github",
        "colab_type": "text"
      },
      "source": [
        "<a href=\"https://colab.research.google.com/github/HAUNYuHan/CS2020/blob/master/python20200918.ipynb\" target=\"_parent\"><img src=\"https://colab.research.google.com/assets/colab-badge.svg\" alt=\"Open In Colab\"/></a>"
      ]
    },
    {
      "cell_type": "code",
      "metadata": {
        "id": "cJfxCe0N9juD",
        "outputId": "ac33811e-7931-49c1-a7e8-8de742f5bf41",
        "colab": {
          "base_uri": "https://localhost:8080/",
          "height": 136
        }
      },
      "source": [
        "import pandas as pd\n",
        "print(\"pandas version: %s\" % pd.__version__)\n",
        "\n",
        "import matplotlib\n",
        "print(\"matplotlib version: %s\" % matplotlib.__version__)\n",
        "\n",
        "import numpy as np\n",
        "print(\"numpy version: %s\" % np.__version__)\n",
        "\n",
        "import sklearn\n",
        "print(\"scikit-learn version: %s\" % sklearn.__version__)\n",
        "\n",
        "import tensorflow as tf\n",
        "print(\"tensorflow version: %s\" % tf.__version__)\n",
        "\n",
        "import torch\n",
        "print(\"PyTorch version: %s\" %torch.__version__)\n",
        "print(\"2020年3月PyTorch version最新版本 是1.4 請參閱https://pytorch.org/\")"
      ],
      "execution_count": null,
      "outputs": [
        {
          "output_type": "stream",
          "text": [
            "pandas version: 1.0.5\n",
            "matplotlib version: 3.2.2\n",
            "numpy version: 1.18.5\n",
            "scikit-learn version: 0.22.2.post1\n",
            "tensorflow version: 2.3.0\n",
            "PyTorch version: 1.6.0+cu101\n",
            "2020年3月PyTorch version最新版本 是1.4 請參閱https://pytorch.org/\n"
          ],
          "name": "stdout"
        }
      ]
    },
    {
      "cell_type": "code",
      "metadata": {
        "id": "Yp5LroByqKok",
        "outputId": "f7b571a3-55d4-46ef-aa18-03cc941e8e45",
        "colab": {
          "base_uri": "https://localhost:8080/",
          "height": 51
        }
      },
      "source": [
        "s = input( )\n",
        "s = int(s)\n",
        "\n",
        "if s >= 60:\n",
        "  print('pass')\n",
        "\n",
        "if s < 60:\n",
        "  print('fail')"
      ],
      "execution_count": 2,
      "outputs": [
        {
          "output_type": "stream",
          "text": [
            "60\n",
            "pass\n"
          ],
          "name": "stdout"
        }
      ]
    },
    {
      "cell_type": "code",
      "metadata": {
        "id": "V-kGQCvSuT17",
        "outputId": "c9554b8e-85ed-4080-ef29-6beafe409ca6",
        "colab": {
          "base_uri": "https://localhost:8080/",
          "height": 51
        }
      },
      "source": [
        "x = input( )\n",
        "for j in range (0,len(x)):\n",
        "  if ord(x[j]) >= 65 and ord(x[j]) <= 90:\n",
        "    a = chr((ord(x[j])+32))\n",
        "    print(a,end='')\n",
        "  elif ord(x[j]) >= 97 and ord(x[j]) <= 122:\n",
        "    a = chr((ord(x[j])-32))\n",
        "    print(a,end='')\n",
        "print(end='\\n')"
      ],
      "execution_count": 3,
      "outputs": [
        {
          "output_type": "stream",
          "text": [
            "asdf\n",
            "ASDF\n"
          ],
          "name": "stdout"
        }
      ]
    },
    {
      "cell_type": "code",
      "metadata": {
        "id": "DIgCGh2rFX9k",
        "outputId": "d3c6827b-7c1c-47c6-e4cc-bbae97105f78",
        "colab": {
          "base_uri": "https://localhost:8080/",
          "height": 51
        }
      },
      "source": [
        "x=input('Enter your name:')\n",
        "print('Hello, '+x)"
      ],
      "execution_count": null,
      "outputs": [
        {
          "output_type": "stream",
          "text": [
            "Enter your name:54849879\n",
            "Hello, 54849879\n"
          ],
          "name": "stdout"
        }
      ]
    },
    {
      "cell_type": "code",
      "metadata": {
        "id": "GrQH4VRLHx1-",
        "outputId": "9911b8f7-8ecd-4287-cf50-acdf89863bcc",
        "colab": {
          "base_uri": "https://localhost:8080/",
          "height": 102
        }
      },
      "source": [
        "x, y, z = [int(x) for x in input(\"Enter three value: \").split()] \n",
        "print(\"First Number is: \", x) \n",
        "print(\"Second Number is: \", y) \n",
        "print(\"Third Number is: \", z) \n",
        "print()"
      ],
      "execution_count": null,
      "outputs": [
        {
          "output_type": "stream",
          "text": [
            "Enter three value: 1 2 3\n",
            "First Number is:  1\n",
            "Second Number is:  2\n",
            "Third Number is:  3\n",
            "\n"
          ],
          "name": "stdout"
        }
      ]
    },
    {
      "cell_type": "code",
      "metadata": {
        "id": "0cQSEbCIH86_",
        "outputId": "cc04ebe3-de9d-4599-8d40-855098f7b034",
        "colab": {
          "base_uri": "https://localhost:8080/",
          "height": 102
        }
      },
      "source": [
        "x, y, z = [int(x) for x in input(\"Enter three value: \").split(\",\")] \n",
        "print(\"First Number is: \", x) \n",
        "print(\"Second Number is: \", y) \n",
        "print(\"Third Number is: \", z) \n",
        "print()"
      ],
      "execution_count": null,
      "outputs": [
        {
          "output_type": "stream",
          "text": [
            "Enter three value: 1,2,3\n",
            "First Number is:  1\n",
            "Second Number is:  2\n",
            "Third Number is:  3\n",
            "\n"
          ],
          "name": "stdout"
        }
      ]
    }
  ]
}